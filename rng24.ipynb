{
 "cells": [
  {
   "cell_type": "code",
   "execution_count": null,
   "metadata": {},
   "outputs": [],
   "source": [
    "\"\"\" Quantum Random Number Generator \"\"\"\n",
    "from qiskit import QuantumRegister\n",
    "from qiskit import ClassicalRegister\n",
    "from qiskit import QuantumCircuit\n",
    "from qiskit.visualization import plot_histogram\n",
    "from qiskit_ionq import IonQProvider\n",
    "from qiskit.tools.monitor import job_monitor\n",
    "from qiskit import transpile\n",
    "from qiskit import execute\n",
    "from math import pi\n",
    "n = 8\n",
    "\n",
    "\"\"\" Build quantum gate \"\"\"\n",
    "qr = QuantumRegister(n,'q')\n",
    "r = ClassicalRegister(n, 'c')\n",
    "circuit = QuantumCircuit(qr,r)\n",
    "circuit.h(qr)\n",
    "circuit.measure(qr,r)\n",
    "\n",
    "\"\"\" Send to quantum simuator or computer \"\"\"\n",
    "sim = \"ionq_simulator\"\n",
    "provider = IonQProvider(\"XShns9EpJO04RNs3xVHcaXlu7bhSB6Hi\")\n",
    "backend = provider.get_backend(sim)\n",
    "transpiled = transpile(circuit, backend)\n",
    "print(transpiled)\n",
    "\n",
    "\"\"\" Generate long long matrix \"\"\"\n",
    "IB = {'b','g','k','m','s'}\n",
    "IA = {'a','e','i','o','u'}\n",
    "for index in range(25):\n",
    "    job = execute(circuit, backend, shots=8)                         \n",
    "    print('Executing Job...\\n')                 \n",
    "    job_monitor(job)\n",
    "    counts = job.result().get_counts()\n",
    "    leech = 0\n",
    "    placevalue = 0\n",
    "    print('RESULT: ');\n",
    "    for k in counts:\n",
    "        if counts[k]:\n",
    "            print(k, counts[k])\n",
    "            leech += int(k,2) << (8*placevalue)\n",
    "            placevalue += 1\n",
    "    print(\"A\" + IB[index // 5] + IA[index % 5], bin(leech))"
   ]
  }
 ],
 "metadata": {
  "language_info": {
   "name": "python"
  },
  "orig_nbformat": 4
 },
 "nbformat": 4,
 "nbformat_minor": 2
}
